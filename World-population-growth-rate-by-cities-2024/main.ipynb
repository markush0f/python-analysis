{
 "cells": [
  {
   "cell_type": "code",
   "execution_count": 1,
   "metadata": {},
   "outputs": [],
   "source": [
    "import pandas as pd"
   ]
  },
  {
   "cell_type": "code",
   "execution_count": 2,
   "metadata": {},
   "outputs": [],
   "source": [
    "import matplotlib.pyplot as plt"
   ]
  },
  {
   "cell_type": "code",
   "execution_count": 3,
   "metadata": {},
   "outputs": [],
   "source": [
    "import utils as utl"
   ]
  },
  {
   "cell_type": "code",
   "execution_count": 4,
   "metadata": {},
   "outputs": [],
   "source": [
    "df = pd.read_csv('World-population-growth-rate-by-cities-2024.csv')"
   ]
  },
  {
   "cell_type": "code",
   "execution_count": 5,
   "metadata": {},
   "outputs": [],
   "source": [
    "europe_data = df[(df['Continent'] == 'Europe')]"
   ]
  },
  {
   "cell_type": "code",
   "execution_count": 6,
   "metadata": {},
   "outputs": [],
   "source": [
    "continents_list = pd.Series(df['Continent'].unique())"
   ]
  },
  {
   "cell_type": "code",
   "execution_count": 7,
   "metadata": {},
   "outputs": [],
   "source": [
    "continents_list = continents_list.dropna().tolist()"
   ]
  },
  {
   "cell_type": "code",
   "execution_count": 8,
   "metadata": {},
   "outputs": [
    {
     "name": "stdout",
     "output_type": "stream",
     "text": [
      "['Asia', 'South America', 'Africa', 'North America', 'Europe', 'Oceana', 'Oceania']\n"
     ]
    }
   ],
   "source": [
    "print(continents_list)"
   ]
  },
  {
   "cell_type": "code",
   "execution_count": 9,
   "metadata": {},
   "outputs": [],
   "source": [
    "df_continent = {\n",
    "    continent: df[df[\"Continent\"] == continent] for continent in continents_list\n",
    "}"
   ]
  },
  {
   "cell_type": "code",
   "execution_count": 10,
   "metadata": {},
   "outputs": [
    {
     "data": {
      "text/html": [
       "<div>\n",
       "<style scoped>\n",
       "    .dataframe tbody tr th:only-of-type {\n",
       "        vertical-align: middle;\n",
       "    }\n",
       "\n",
       "    .dataframe tbody tr th {\n",
       "        vertical-align: top;\n",
       "    }\n",
       "\n",
       "    .dataframe thead th {\n",
       "        text-align: right;\n",
       "    }\n",
       "</style>\n",
       "<table border=\"1\" class=\"dataframe\">\n",
       "  <thead>\n",
       "    <tr style=\"text-align: right;\">\n",
       "      <th></th>\n",
       "      <th>City</th>\n",
       "      <th>Country</th>\n",
       "      <th>Continent</th>\n",
       "      <th>Population (2024)</th>\n",
       "      <th>Population (2023)</th>\n",
       "      <th>Growth Rate</th>\n",
       "    </tr>\n",
       "  </thead>\n",
       "  <tbody>\n",
       "    <tr>\n",
       "      <th>5</th>\n",
       "      <td>Cairo</td>\n",
       "      <td>Egypt</td>\n",
       "      <td>Africa</td>\n",
       "      <td>22623874</td>\n",
       "      <td>22183201</td>\n",
       "      <td>0.0199</td>\n",
       "    </tr>\n",
       "    <tr>\n",
       "      <th>12</th>\n",
       "      <td>Kinshasa</td>\n",
       "      <td>DR Congo</td>\n",
       "      <td>Africa</td>\n",
       "      <td>17032322</td>\n",
       "      <td>16315534</td>\n",
       "      <td>0.0439</td>\n",
       "    </tr>\n",
       "    <tr>\n",
       "      <th>13</th>\n",
       "      <td>Lagos</td>\n",
       "      <td>Nigeria</td>\n",
       "      <td>Africa</td>\n",
       "      <td>16536018</td>\n",
       "      <td>15945912</td>\n",
       "      <td>0.0370</td>\n",
       "    </tr>\n",
       "    <tr>\n",
       "      <th>36</th>\n",
       "      <td>Luanda</td>\n",
       "      <td>Angola</td>\n",
       "      <td>Africa</td>\n",
       "      <td>9651032</td>\n",
       "      <td>9292336</td>\n",
       "      <td>0.0386</td>\n",
       "    </tr>\n",
       "    <tr>\n",
       "      <th>47</th>\n",
       "      <td>Dar Es Salaam</td>\n",
       "      <td>Tanzania</td>\n",
       "      <td>Africa</td>\n",
       "      <td>8161231</td>\n",
       "      <td>7775865</td>\n",
       "      <td>0.0496</td>\n",
       "    </tr>\n",
       "    <tr>\n",
       "      <th>...</th>\n",
       "      <td>...</td>\n",
       "      <td>...</td>\n",
       "      <td>...</td>\n",
       "      <td>...</td>\n",
       "      <td>...</td>\n",
       "      <td>...</td>\n",
       "    </tr>\n",
       "    <tr>\n",
       "      <th>758</th>\n",
       "      <td>Zaria</td>\n",
       "      <td>Nigeria</td>\n",
       "      <td>Africa</td>\n",
       "      <td>786197</td>\n",
       "      <td>766007</td>\n",
       "      <td>0.0264</td>\n",
       "    </tr>\n",
       "    <tr>\n",
       "      <th>763</th>\n",
       "      <td>Goma</td>\n",
       "      <td>DR Congo</td>\n",
       "      <td>Africa</td>\n",
       "      <td>781875</td>\n",
       "      <td>744247</td>\n",
       "      <td>0.0506</td>\n",
       "    </tr>\n",
       "    <tr>\n",
       "      <th>772</th>\n",
       "      <td>Akure</td>\n",
       "      <td>Nigeria</td>\n",
       "      <td>Africa</td>\n",
       "      <td>773141</td>\n",
       "      <td>744371</td>\n",
       "      <td>0.0387</td>\n",
       "    </tr>\n",
       "    <tr>\n",
       "      <th>787</th>\n",
       "      <td>Tamale</td>\n",
       "      <td>Ghana</td>\n",
       "      <td>Africa</td>\n",
       "      <td>757506</td>\n",
       "      <td>729768</td>\n",
       "      <td>0.0380</td>\n",
       "    </tr>\n",
       "    <tr>\n",
       "      <th>798</th>\n",
       "      <td>Huambo</td>\n",
       "      <td>Angola</td>\n",
       "      <td>Africa</td>\n",
       "      <td>751297</td>\n",
       "      <td>727641</td>\n",
       "      <td>0.0325</td>\n",
       "    </tr>\n",
       "  </tbody>\n",
       "</table>\n",
       "<p>106 rows × 6 columns</p>\n",
       "</div>"
      ],
      "text/plain": [
       "              City   Country Continent  Population (2024)  Population (2023)  \\\n",
       "5            Cairo     Egypt    Africa           22623874           22183201   \n",
       "12        Kinshasa  DR Congo    Africa           17032322           16315534   \n",
       "13           Lagos   Nigeria    Africa           16536018           15945912   \n",
       "36          Luanda    Angola    Africa            9651032            9292336   \n",
       "47   Dar Es Salaam  Tanzania    Africa            8161231            7775865   \n",
       "..             ...       ...       ...                ...                ...   \n",
       "758          Zaria   Nigeria    Africa             786197             766007   \n",
       "763           Goma  DR Congo    Africa             781875             744247   \n",
       "772          Akure   Nigeria    Africa             773141             744371   \n",
       "787         Tamale     Ghana    Africa             757506             729768   \n",
       "798         Huambo    Angola    Africa             751297             727641   \n",
       "\n",
       "     Growth Rate  \n",
       "5         0.0199  \n",
       "12        0.0439  \n",
       "13        0.0370  \n",
       "36        0.0386  \n",
       "47        0.0496  \n",
       "..           ...  \n",
       "758       0.0264  \n",
       "763       0.0506  \n",
       "772       0.0387  \n",
       "787       0.0380  \n",
       "798       0.0325  \n",
       "\n",
       "[106 rows x 6 columns]"
      ]
     },
     "execution_count": 10,
     "metadata": {},
     "output_type": "execute_result"
    }
   ],
   "source": [
    "df_continent['Africa']"
   ]
  },
  {
   "cell_type": "code",
   "execution_count": 11,
   "metadata": {},
   "outputs": [],
   "source": [
    "utl.create_csv_continents(df_continent, 'population-growth-rate-by-cities')"
   ]
  },
  {
   "cell_type": "code",
   "execution_count": 12,
   "metadata": {},
   "outputs": [],
   "source": [
    "df_continent_2024_sorted = {\n",
    "    continent: df[df[\"Continent\"] == continent][\n",
    "        [\n",
    "            \"Continent\",\n",
    "            \"City\",\n",
    "            \"Country\",\n",
    "            \"Population (2024)\",\n",
    "        ]\n",
    "    ].sort_values(\n",
    "        by=\"Population (2024)\",\n",
    "        ascending=False,\n",
    "    )\n",
    "    for continent in continents_list\n",
    "}"
   ]
  },
  {
   "cell_type": "code",
   "execution_count": 13,
   "metadata": {},
   "outputs": [
    {
     "data": {
      "text/html": [
       "<div>\n",
       "<style scoped>\n",
       "    .dataframe tbody tr th:only-of-type {\n",
       "        vertical-align: middle;\n",
       "    }\n",
       "\n",
       "    .dataframe tbody tr th {\n",
       "        vertical-align: top;\n",
       "    }\n",
       "\n",
       "    .dataframe thead th {\n",
       "        text-align: right;\n",
       "    }\n",
       "</style>\n",
       "<table border=\"1\" class=\"dataframe\">\n",
       "  <thead>\n",
       "    <tr style=\"text-align: right;\">\n",
       "      <th></th>\n",
       "      <th>Continent</th>\n",
       "      <th>City</th>\n",
       "      <th>Country</th>\n",
       "      <th>Population (2024)</th>\n",
       "    </tr>\n",
       "  </thead>\n",
       "  <tbody>\n",
       "    <tr>\n",
       "      <th>5</th>\n",
       "      <td>Africa</td>\n",
       "      <td>Cairo</td>\n",
       "      <td>Egypt</td>\n",
       "      <td>22623874</td>\n",
       "    </tr>\n",
       "    <tr>\n",
       "      <th>12</th>\n",
       "      <td>Africa</td>\n",
       "      <td>Kinshasa</td>\n",
       "      <td>DR Congo</td>\n",
       "      <td>17032322</td>\n",
       "    </tr>\n",
       "    <tr>\n",
       "      <th>13</th>\n",
       "      <td>Africa</td>\n",
       "      <td>Lagos</td>\n",
       "      <td>Nigeria</td>\n",
       "      <td>16536018</td>\n",
       "    </tr>\n",
       "    <tr>\n",
       "      <th>36</th>\n",
       "      <td>Africa</td>\n",
       "      <td>Luanda</td>\n",
       "      <td>Angola</td>\n",
       "      <td>9651032</td>\n",
       "    </tr>\n",
       "    <tr>\n",
       "      <th>47</th>\n",
       "      <td>Africa</td>\n",
       "      <td>Dar Es Salaam</td>\n",
       "      <td>Tanzania</td>\n",
       "      <td>8161231</td>\n",
       "    </tr>\n",
       "    <tr>\n",
       "      <th>...</th>\n",
       "      <td>...</td>\n",
       "      <td>...</td>\n",
       "      <td>...</td>\n",
       "      <td>...</td>\n",
       "    </tr>\n",
       "    <tr>\n",
       "      <th>758</th>\n",
       "      <td>Africa</td>\n",
       "      <td>Zaria</td>\n",
       "      <td>Nigeria</td>\n",
       "      <td>786197</td>\n",
       "    </tr>\n",
       "    <tr>\n",
       "      <th>763</th>\n",
       "      <td>Africa</td>\n",
       "      <td>Goma</td>\n",
       "      <td>DR Congo</td>\n",
       "      <td>781875</td>\n",
       "    </tr>\n",
       "    <tr>\n",
       "      <th>772</th>\n",
       "      <td>Africa</td>\n",
       "      <td>Akure</td>\n",
       "      <td>Nigeria</td>\n",
       "      <td>773141</td>\n",
       "    </tr>\n",
       "    <tr>\n",
       "      <th>787</th>\n",
       "      <td>Africa</td>\n",
       "      <td>Tamale</td>\n",
       "      <td>Ghana</td>\n",
       "      <td>757506</td>\n",
       "    </tr>\n",
       "    <tr>\n",
       "      <th>798</th>\n",
       "      <td>Africa</td>\n",
       "      <td>Huambo</td>\n",
       "      <td>Angola</td>\n",
       "      <td>751297</td>\n",
       "    </tr>\n",
       "  </tbody>\n",
       "</table>\n",
       "<p>106 rows × 4 columns</p>\n",
       "</div>"
      ],
      "text/plain": [
       "    Continent           City   Country  Population (2024)\n",
       "5      Africa          Cairo     Egypt           22623874\n",
       "12     Africa       Kinshasa  DR Congo           17032322\n",
       "13     Africa          Lagos   Nigeria           16536018\n",
       "36     Africa         Luanda    Angola            9651032\n",
       "47     Africa  Dar Es Salaam  Tanzania            8161231\n",
       "..        ...            ...       ...                ...\n",
       "758    Africa          Zaria   Nigeria             786197\n",
       "763    Africa           Goma  DR Congo             781875\n",
       "772    Africa          Akure   Nigeria             773141\n",
       "787    Africa         Tamale     Ghana             757506\n",
       "798    Africa         Huambo    Angola             751297\n",
       "\n",
       "[106 rows x 4 columns]"
      ]
     },
     "execution_count": 13,
     "metadata": {},
     "output_type": "execute_result"
    }
   ],
   "source": [
    "df_continent_2024_sorted['Africa']"
   ]
  },
  {
   "cell_type": "code",
   "execution_count": 14,
   "metadata": {},
   "outputs": [],
   "source": [
    "utl.create_csv_continents(df_continent_2024_sorted, 'population-growth-rate-by-cities-2024-sorted')"
   ]
  },
  {
   "cell_type": "code",
   "execution_count": 15,
   "metadata": {},
   "outputs": [],
   "source": [
    "df_continent_2023_sorted = {\n",
    "    continent: df[df[\"Continent\"] == continent][\n",
    "        [\n",
    "            \"Continent\",\n",
    "            \"City\",\n",
    "            \"Country\",\n",
    "            \"Population (2023)\",\n",
    "        ]\n",
    "    ].sort_values(\n",
    "        by=\"Population (2023)\",\n",
    "        ascending=False,\n",
    "    )\n",
    "    for continent in continents_list\n",
    "}"
   ]
  },
  {
   "cell_type": "code",
   "execution_count": 16,
   "metadata": {},
   "outputs": [],
   "source": [
    "utl.create_csv_continents(df_continent_2023_sorted, 'population-growth-rate-by-cities-2023-sorted')"
   ]
  }
 ],
 "metadata": {
  "kernelspec": {
   "display_name": "venv",
   "language": "python",
   "name": "python3"
  },
  "language_info": {
   "codemirror_mode": {
    "name": "ipython",
    "version": 3
   },
   "file_extension": ".py",
   "mimetype": "text/x-python",
   "name": "python",
   "nbconvert_exporter": "python",
   "pygments_lexer": "ipython3",
   "version": "3.12.2"
  }
 },
 "nbformat": 4,
 "nbformat_minor": 2
}
